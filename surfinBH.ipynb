{
 "cells": [
  {
   "cell_type": "code",
   "execution_count": 17,
   "id": "0dc940ed",
   "metadata": {},
   "outputs": [],
   "source": [
    "import pylab\n",
    "import ringdown.qnms\n",
    "import numpy as np\n",
    "import matplotlib.pyplot as plt\n",
    "import qnm\n",
    "import lal\n",
    "from collections import namedtuple\n",
    "import math\n",
    "from scipy.optimize import curve_fit\n",
    "from pycbc.waveform import get_td_waveform\n",
    "from pycbc.types import TimeSeries"
   ]
  },
  {
   "cell_type": "code",
   "execution_count": 9,
   "id": "fced4180",
   "metadata": {},
   "outputs": [
    {
     "name": "stdout",
     "output_type": "stream",
     "text": [
      "Loaded NRSur3dq8Remnant fit.\n"
     ]
    }
   ],
   "source": [
    "import surfinBH\n",
    "fit_name = 'NRSur3dq8Remnant'\n",
    "fit = surfinBH.LoadFits(fit_name)"
   ]
  },
  {
   "cell_type": "code",
   "execution_count": 10,
   "id": "2d9a3313",
   "metadata": {},
   "outputs": [],
   "source": [
    "q = 1.24             # Mass ratio q>=1\n",
    "chiA = [0,0,0]    # Spin of larger BH (z-direction only)\n",
    "chiB = [0,0,0]    # Spin of smaller BH (z-direction only)\n",
    "\n",
    "## Evaluate the fits and GPR error estimate.\n",
    "\n",
    "# remnant mass and 1-sigma error estimate\n",
    "mf, mf_err = fit.mf(q, chiA, chiB)\n",
    "\n",
    "# remnant spin and 1-sigma error estimate\n",
    "chif, chif_err = fit.chif(q, chiA, chiB)\n",
    "\n",
    "# remnant recoil kick and 1-sigma error estimate\n",
    "vf, vf_err = fit.vf(q, chiA, chiB)\n",
    "\n",
    "# All of these together\n",
    "mf, chif, vf, mf_err, chif_err, vf_err = fit.all(q, chiA, chiB)"
   ]
  },
  {
   "cell_type": "code",
   "execution_count": 11,
   "id": "2418d404",
   "metadata": {},
   "outputs": [
    {
     "name": "stdout",
     "output_type": "stream",
     "text": [
      "0.9526684300679796 [0.         0.         0.68007186]\n",
      "61.92344795441868\n"
     ]
    }
   ],
   "source": [
    "print(mf, chif)\n",
    "m_f = mf*(36+29)\n",
    "print(m_f)\n",
    "# mf is returning m2/m1...so multiply it by (m1+m2)!!!!"
   ]
  },
  {
   "cell_type": "code",
   "execution_count": 18,
   "id": "ea57214c",
   "metadata": {},
   "outputs": [],
   "source": [
    "hp, hc = get_td_waveform(approximant=\"IMRPhenomXP\",\n",
    "                         mass1=36,\n",
    "                         mass2=29,\n",
    "                         delta_t=1.0/16384,\n",
    "                         f_lower=30)\n",
    "\n",
    "# this is trimming timeseries hp.sample_times and hp/hc data to start at 0 for ringdown analysis\n",
    "hp_smp_ts = TimeSeries(hp.sample_times, delta_t=1/16384, epoch=0) #turning sample times into timeseries to use crop\n",
    "cond = hp_smp_ts.crop(0.645,0) #using crop on timeseries sample times \n",
    "#use cond for cropped sample times!!!!!\n",
    "\n",
    "hp_data = TimeSeries(hp, delta_t=1/16384, epoch=0) #turning h+ data into timeseries to use crop\n",
    "cond_hp = hp_data.crop(0.645,0) #using crop on timeseries data\n",
    "#use cond_hp for the cropped hp data pts!!!!\n",
    "#repeating for hx data points\n",
    "hc_data = TimeSeries(hc, delta_t=1/16384, epoch=0)\n",
    "cond_hc = hc_data.crop(0.645,0)\n",
    "hc_signal = cond_hc.numpy() #turning into ndarray\n",
    "\n",
    "time = cond.numpy()"
   ]
  },
  {
   "cell_type": "code",
   "execution_count": 21,
   "id": "3fac0c99",
   "metadata": {},
   "outputs": [],
   "source": [
    "def rngdwn(M,chi,l,m,n,amplitude,phi):\n",
    "    pylab.figure(figsize=pylab.figaspect(0.4))\n",
    "    ftau = ringdown.qnms.get_ftau(M,chi,n,l,m)\n",
    "    gamma = (ftau[1])**-1\n",
    "    t0=0\n",
    "    time = cond.numpy()\n",
    "        \n",
    "    wf_kws = dict(\n",
    "    A = amplitude,\n",
    "    phi = phi,\n",
    "    f = ftau[0],\n",
    "    gamma = gamma,\n",
    "    )\n",
    "        \n",
    "    def get_signal(time, A, phi, f, gamma):\n",
    "        s = A*np.cos(2*np.pi*f*(time-t0) + phi)*np.exp(-gamma*abs(time-t0))\n",
    "        return ringdown.Data(s, index=time)\n",
    "\n",
    "    signal = get_signal(time, **wf_kws)\n",
    "    \n",
    "    return signal"
   ]
  },
  {
   "cell_type": "code",
   "execution_count": 22,
   "id": "1e501513",
   "metadata": {},
   "outputs": [
    {
     "data": {
      "text/plain": [
       "<matplotlib.legend.Legend at 0x159fb4160>"
      ]
     },
     "execution_count": 22,
     "metadata": {},
     "output_type": "execute_result"
    },
    {
     "data": {
      "text/plain": [
       "<Figure size 720x288 with 0 Axes>"
      ]
     },
     "metadata": {},
     "output_type": "display_data"
    },
    {
     "data": {
      "image/png": "[encoded data removed]",
      "text/plain": [
       "<Figure size 720x288 with 1 Axes>"
      ]
     },
     "metadata": {
      "needs_background": "light"
     },
     "output_type": "display_data"
    }
   ],
   "source": [
    "pylab.figure(figsize=pylab.figaspect(0.4))\n",
    "surfin = rngdwn(62,0.68,2,2,0,1.6e-18,np.pi)\n",
    "pylab.plot(cond, cond_hc, label='IMR Cross')\n",
    "pylab.plot(surfin,label='guess')\n",
    "pylab.xlim(0, 0.03)\n",
    "#pylab.axvline(x=0.0085,linestyle='dashed') use this for 1e-18 and phi=0\n",
    "#pylab.axvline(x=0.0115,linestyle='dashed')\n",
    "pylab.xlabel('Time (s)')\n",
    "pylab.ylabel('Strain')\n",
    "pylab.legend()\n",
    "#plt.savefig('hmfit')\n",
    "#print(dir(signal))\n",
    "#print(signal._values)"
   ]
  },
  {
   "cell_type": "code",
   "execution_count": 23,
   "id": "68768b27",
   "metadata": {},
   "outputs": [],
   "source": [
    "surfin_res = (surfin._values) - (cond_hc)"
   ]
  },
  {
   "cell_type": "code",
   "execution_count": 42,
   "id": "dc227d97",
   "metadata": {},
   "outputs": [
    {
     "data": {
      "text/plain": [
       "<matplotlib.legend.Legend at 0x15a530ee0>"
      ]
     },
     "execution_count": 42,
     "metadata": {},
     "output_type": "execute_result"
    },
    {
     "data": {
      "text/plain": [
       "<Figure size 720x288 with 0 Axes>"
      ]
     },
     "metadata": {},
     "output_type": "display_data"
    },
    {
     "data": {
      "text/plain": [
       "<Figure size 720x288 with 0 Axes>"
      ]
     },
     "metadata": {},
     "output_type": "display_data"
    },
    {
     "data": {
      "image/png": "[encoded data removed]",
      "text/plain": [
       "<Figure size 720x288 with 1 Axes>"
      ]
     },
     "metadata": {
      "needs_background": "light"
     },
     "output_type": "display_data"
    }
   ],
   "source": [
    "pylab.figure(figsize=pylab.figaspect(0.4))\n",
    "surfin1 = rngdwn(62,0.68,2,2,1,3.4e-18,((3*np.pi)/4))\n",
    "surfin2 = rngdwn(62,0.68,2,2,2,12e-18,((2*np.pi)/3))\n",
    "pylab.plot(time,surfin_res,label='residual')\n",
    "pylab.plot(surfin1,label='1st ot')\n",
    "pylab.plot(surfin2,label='2nd ot')\n",
    "pylab.xlim(0, 0.03)\n",
    "pylab.xlabel('Time (s)')\n",
    "pylab.ylabel('Strain')\n",
    "pylab.legend()"
   ]
  },
  {
   "cell_type": "code",
   "execution_count": 60,
   "id": "e094bd9a",
   "metadata": {},
   "outputs": [],
   "source": [
    "def two_two_zero(time,M,chi,l,m,n,amplitude,phi):\n",
    "    pylab.figure(figsize=pylab.figaspect(0.4))\n",
    "    ftau = ringdown.qnms.get_ftau(M,chi,n,l,m)\n",
    "    gamma = (ftau[1])**-1\n",
    "    t0=0\n",
    "    time = cond.numpy()\n",
    "        \n",
    "    wf_kws = dict(\n",
    "    A = amplitude,\n",
    "    phi = phi,\n",
    "    f = ftau[0],\n",
    "    gamma = gamma,\n",
    "    )\n",
    "        \n",
    "    def get_signal(time, A, phi, f, gamma):\n",
    "        s = A*np.cos(2*np.pi*f*(time-t0) + phi)*np.exp(-gamma*abs(time-t0))\n",
    "        return ringdown.Data(s, index=time)\n",
    "\n",
    "    signal = get_signal(time, **wf_kws)\n",
    "\n",
    "    return signal"
   ]
  },
  {
   "cell_type": "code",
   "execution_count": 61,
   "id": "e4533cea",
   "metadata": {},
   "outputs": [
    {
     "ename": "IndexError",
     "evalue": "only integers, slices (`:`), ellipsis (`...`), numpy.newaxis (`None`) and integer or boolean arrays are valid indices",
     "output_type": "error",
     "traceback": [
      "\u001b[0;31m---------------------------------------------------------------------------\u001b[0m",
      "\u001b[0;31mIndexError\u001b[0m                                Traceback (most recent call last)",
      "Input \u001b[0;32mIn [61]\u001b[0m, in \u001b[0;36m<cell line: 4>\u001b[0;34m()\u001b[0m\n\u001b[1;32m      2\u001b[0m ydata \u001b[38;5;241m=\u001b[39m cond_hc\n\u001b[1;32m      3\u001b[0m p0 \u001b[38;5;241m=\u001b[39m [\u001b[38;5;241m62\u001b[39m,\u001b[38;5;241m0.68\u001b[39m,\u001b[38;5;241m2\u001b[39m,\u001b[38;5;241m2\u001b[39m,\u001b[38;5;241m0\u001b[39m,\u001b[38;5;241m1.6e-18\u001b[39m,np\u001b[38;5;241m.\u001b[39mpi]\n\u001b[0;32m----> 4\u001b[0m popt,pcov \u001b[38;5;241m=\u001b[39m \u001b[43mcurve_fit\u001b[49m\u001b[43m(\u001b[49m\u001b[43mtwo_two_zero\u001b[49m\u001b[43m,\u001b[49m\u001b[43mxdata\u001b[49m\u001b[43m,\u001b[49m\u001b[43mydata\u001b[49m\u001b[43m,\u001b[49m\u001b[43mp0\u001b[49m\u001b[43m)\u001b[49m\n",
      "File \u001b[0;32m/opt/anaconda3/envs/ringdown/lib/python3.10/site-packages/scipy/optimize/_minpack_py.py:789\u001b[0m, in \u001b[0;36mcurve_fit\u001b[0;34m(f, xdata, ydata, p0, sigma, absolute_sigma, check_finite, bounds, method, jac, **kwargs)\u001b[0m\n\u001b[1;32m    787\u001b[0m \u001b[38;5;66;03m# Remove full_output from kwargs, otherwise we're passing it in twice.\u001b[39;00m\n\u001b[1;32m    788\u001b[0m return_full \u001b[38;5;241m=\u001b[39m kwargs\u001b[38;5;241m.\u001b[39mpop(\u001b[38;5;124m'\u001b[39m\u001b[38;5;124mfull_output\u001b[39m\u001b[38;5;124m'\u001b[39m, \u001b[38;5;28;01mFalse\u001b[39;00m)\n\u001b[0;32m--> 789\u001b[0m res \u001b[38;5;241m=\u001b[39m \u001b[43mleastsq\u001b[49m\u001b[43m(\u001b[49m\u001b[43mfunc\u001b[49m\u001b[43m,\u001b[49m\u001b[43m \u001b[49m\u001b[43mp0\u001b[49m\u001b[43m,\u001b[49m\u001b[43m \u001b[49m\u001b[43mDfun\u001b[49m\u001b[38;5;241;43m=\u001b[39;49m\u001b[43mjac\u001b[49m\u001b[43m,\u001b[49m\u001b[43m \u001b[49m\u001b[43mfull_output\u001b[49m\u001b[38;5;241;43m=\u001b[39;49m\u001b[38;5;241;43m1\u001b[39;49m\u001b[43m,\u001b[49m\u001b[43m \u001b[49m\u001b[38;5;241;43m*\u001b[39;49m\u001b[38;5;241;43m*\u001b[39;49m\u001b[43mkwargs\u001b[49m\u001b[43m)\u001b[49m\n\u001b[1;32m    790\u001b[0m popt, pcov, infodict, errmsg, ier \u001b[38;5;241m=\u001b[39m res\n\u001b[1;32m    791\u001b[0m ysize \u001b[38;5;241m=\u001b[39m \u001b[38;5;28mlen\u001b[39m(infodict[\u001b[38;5;124m'\u001b[39m\u001b[38;5;124mfvec\u001b[39m\u001b[38;5;124m'\u001b[39m])\n",
      "File \u001b[0;32m/opt/anaconda3/envs/ringdown/lib/python3.10/site-packages/scipy/optimize/_minpack_py.py:423\u001b[0m, in \u001b[0;36mleastsq\u001b[0;34m(func, x0, args, Dfun, full_output, col_deriv, ftol, xtol, gtol, maxfev, epsfcn, factor, diag)\u001b[0m\n\u001b[1;32m    421\u001b[0m     \u001b[38;5;28;01mif\u001b[39;00m maxfev \u001b[38;5;241m==\u001b[39m \u001b[38;5;241m0\u001b[39m:\n\u001b[1;32m    422\u001b[0m         maxfev \u001b[38;5;241m=\u001b[39m \u001b[38;5;241m200\u001b[39m\u001b[38;5;241m*\u001b[39m(n \u001b[38;5;241m+\u001b[39m \u001b[38;5;241m1\u001b[39m)\n\u001b[0;32m--> 423\u001b[0m     retval \u001b[38;5;241m=\u001b[39m \u001b[43m_minpack\u001b[49m\u001b[38;5;241;43m.\u001b[39;49m\u001b[43m_lmdif\u001b[49m\u001b[43m(\u001b[49m\u001b[43mfunc\u001b[49m\u001b[43m,\u001b[49m\u001b[43m \u001b[49m\u001b[43mx0\u001b[49m\u001b[43m,\u001b[49m\u001b[43m \u001b[49m\u001b[43margs\u001b[49m\u001b[43m,\u001b[49m\u001b[43m \u001b[49m\u001b[43mfull_output\u001b[49m\u001b[43m,\u001b[49m\u001b[43m \u001b[49m\u001b[43mftol\u001b[49m\u001b[43m,\u001b[49m\u001b[43m \u001b[49m\u001b[43mxtol\u001b[49m\u001b[43m,\u001b[49m\n\u001b[1;32m    424\u001b[0m \u001b[43m                             \u001b[49m\u001b[43mgtol\u001b[49m\u001b[43m,\u001b[49m\u001b[43m \u001b[49m\u001b[43mmaxfev\u001b[49m\u001b[43m,\u001b[49m\u001b[43m \u001b[49m\u001b[43mepsfcn\u001b[49m\u001b[43m,\u001b[49m\u001b[43m \u001b[49m\u001b[43mfactor\u001b[49m\u001b[43m,\u001b[49m\u001b[43m \u001b[49m\u001b[43mdiag\u001b[49m\u001b[43m)\u001b[49m\n\u001b[1;32m    425\u001b[0m \u001b[38;5;28;01melse\u001b[39;00m:\n\u001b[1;32m    426\u001b[0m     \u001b[38;5;28;01mif\u001b[39;00m col_deriv:\n",
      "File \u001b[0;32m/opt/anaconda3/envs/ringdown/lib/python3.10/site-packages/scipy/optimize/_minpack_py.py:485\u001b[0m, in \u001b[0;36m_wrap_func.<locals>.func_wrapped\u001b[0;34m(params)\u001b[0m\n\u001b[1;32m    484\u001b[0m \u001b[38;5;28;01mdef\u001b[39;00m \u001b[38;5;21mfunc_wrapped\u001b[39m(params):\n\u001b[0;32m--> 485\u001b[0m     \u001b[38;5;28;01mreturn\u001b[39;00m \u001b[43mfunc\u001b[49m\u001b[43m(\u001b[49m\u001b[43mxdata\u001b[49m\u001b[43m,\u001b[49m\u001b[43m \u001b[49m\u001b[38;5;241;43m*\u001b[39;49m\u001b[43mparams\u001b[49m\u001b[43m)\u001b[49m \u001b[38;5;241m-\u001b[39m ydata\n",
      "Input \u001b[0;32mIn [60]\u001b[0m, in \u001b[0;36mtwo_two_zero\u001b[0;34m(time, M, chi, l, m, n, amplitude, phi)\u001b[0m\n\u001b[1;32m      1\u001b[0m \u001b[38;5;28;01mdef\u001b[39;00m \u001b[38;5;21mtwo_two_zero\u001b[39m(time,M,chi,l,m,n,amplitude,phi):\n\u001b[1;32m      2\u001b[0m     pylab\u001b[38;5;241m.\u001b[39mfigure(figsize\u001b[38;5;241m=\u001b[39mpylab\u001b[38;5;241m.\u001b[39mfigaspect(\u001b[38;5;241m0.4\u001b[39m))\n\u001b[0;32m----> 3\u001b[0m     ftau \u001b[38;5;241m=\u001b[39m \u001b[43mringdown\u001b[49m\u001b[38;5;241;43m.\u001b[39;49m\u001b[43mqnms\u001b[49m\u001b[38;5;241;43m.\u001b[39;49m\u001b[43mget_ftau\u001b[49m\u001b[43m(\u001b[49m\u001b[43mM\u001b[49m\u001b[43m,\u001b[49m\u001b[43mchi\u001b[49m\u001b[43m,\u001b[49m\u001b[43mn\u001b[49m\u001b[43m,\u001b[49m\u001b[43ml\u001b[49m\u001b[43m,\u001b[49m\u001b[43mm\u001b[49m\u001b[43m)\u001b[49m\n\u001b[1;32m      4\u001b[0m     gamma \u001b[38;5;241m=\u001b[39m (ftau[\u001b[38;5;241m1\u001b[39m])\u001b[38;5;241m*\u001b[39m\u001b[38;5;241m*\u001b[39m\u001b[38;5;241m-\u001b[39m\u001b[38;5;241m1\u001b[39m\n\u001b[1;32m      5\u001b[0m     t0\u001b[38;5;241m=\u001b[39m\u001b[38;5;241m0\u001b[39m\n",
      "File \u001b[0;32m/opt/anaconda3/envs/ringdown/lib/python3.10/site-packages/ringdown/qnms.py:109\u001b[0m, in \u001b[0;36mget_ftau\u001b[0;34m(M, chi, n, l, m)\u001b[0m\n\u001b[1;32m    108\u001b[0m \u001b[38;5;28;01mdef\u001b[39;00m \u001b[38;5;21mget_ftau\u001b[39m(M, chi, n, l\u001b[38;5;241m=\u001b[39m\u001b[38;5;241m2\u001b[39m, m\u001b[38;5;241m=\u001b[39m\u001b[38;5;241m2\u001b[39m):\n\u001b[0;32m--> 109\u001b[0m     q22 \u001b[38;5;241m=\u001b[39m \u001b[43mqnm\u001b[49m\u001b[38;5;241;43m.\u001b[39;49m\u001b[43mmodes_cache\u001b[49m\u001b[43m(\u001b[49m\u001b[38;5;241;43m-\u001b[39;49m\u001b[38;5;241;43m2\u001b[39;49m\u001b[43m,\u001b[49m\u001b[43m \u001b[49m\u001b[43ml\u001b[49m\u001b[43m,\u001b[49m\u001b[43m \u001b[49m\u001b[43mm\u001b[49m\u001b[43m,\u001b[49m\u001b[43m \u001b[49m\u001b[43mn\u001b[49m\u001b[43m)\u001b[49m\n\u001b[1;32m    110\u001b[0m     omega, _, _ \u001b[38;5;241m=\u001b[39m q22(a\u001b[38;5;241m=\u001b[39mchi)\n\u001b[1;32m    111\u001b[0m     f \u001b[38;5;241m=\u001b[39m real(omega)\u001b[38;5;241m/\u001b[39m(\u001b[38;5;241m2\u001b[39m\u001b[38;5;241m*\u001b[39mpi) \u001b[38;5;241m/\u001b[39m (T_MSUN\u001b[38;5;241m*\u001b[39mM)\n",
      "File \u001b[0;32m/opt/anaconda3/envs/ringdown/lib/python3.10/site-packages/qnm/cached.py:370\u001b[0m, in \u001b[0;36mKerrSeqCache.__call__\u001b[0;34m(self, s, l, m, n, compute_if_not_found, compute_pars)\u001b[0m\n\u001b[1;32m    368\u001b[0m the_pars \u001b[38;5;241m=\u001b[39m \u001b[38;5;28mdict\u001b[39m(compute_pars) \u001b[38;5;66;03m# Make a copy\u001b[39;00m\n\u001b[1;32m    369\u001b[0m the_pars\u001b[38;5;241m.\u001b[39mupdate({ \u001b[38;5;124m'\u001b[39m\u001b[38;5;124ms\u001b[39m\u001b[38;5;124m'\u001b[39m: s, \u001b[38;5;124m'\u001b[39m\u001b[38;5;124ml\u001b[39m\u001b[38;5;124m'\u001b[39m: l, \u001b[38;5;124m'\u001b[39m\u001b[38;5;124mm\u001b[39m\u001b[38;5;124m'\u001b[39m: m, \u001b[38;5;124m'\u001b[39m\u001b[38;5;124mn\u001b[39m\u001b[38;5;124m'\u001b[39m: n })\n\u001b[0;32m--> 370\u001b[0m computed \u001b[38;5;241m=\u001b[39m \u001b[43mKerrSpinSeq\u001b[49m\u001b[43m(\u001b[49m\u001b[38;5;241;43m*\u001b[39;49m\u001b[38;5;241;43m*\u001b[39;49m\u001b[43mthe_pars\u001b[49m\u001b[43m)\u001b[49m\n\u001b[1;32m    371\u001b[0m computed\u001b[38;5;241m.\u001b[39mdo_find_sequence()\n\u001b[1;32m    372\u001b[0m \u001b[38;5;28mself\u001b[39m\u001b[38;5;241m.\u001b[39mseq_dict[key] \u001b[38;5;241m=\u001b[39m computed\n",
      "File \u001b[0;32m/opt/anaconda3/envs/ringdown/lib/python3.10/site-packages/qnm/spinsequence.py:109\u001b[0m, in \u001b[0;36mKerrSpinSeq.__init__\u001b[0;34m(self, *args, **kwargs)\u001b[0m\n\u001b[1;32m    107\u001b[0m \u001b[38;5;28;01melse\u001b[39;00m:\n\u001b[1;32m    108\u001b[0m     qnm_dict \u001b[38;5;241m=\u001b[39m QNMDict()\n\u001b[0;32m--> 109\u001b[0m     \u001b[38;5;28mself\u001b[39m\u001b[38;5;241m.\u001b[39momega_guess \u001b[38;5;241m=\u001b[39m \u001b[43mqnm_dict\u001b[49m\u001b[43m(\u001b[49m\u001b[38;5;28;43mself\u001b[39;49m\u001b[38;5;241;43m.\u001b[39;49m\u001b[43ms\u001b[49m\u001b[43m,\u001b[49m\u001b[43m \u001b[49m\u001b[38;5;28;43mself\u001b[39;49m\u001b[38;5;241;43m.\u001b[39;49m\u001b[43ml\u001b[49m\u001b[43m,\u001b[49m\u001b[43m \u001b[49m\u001b[38;5;28;43mself\u001b[39;49m\u001b[38;5;241;43m.\u001b[39;49m\u001b[43mn\u001b[49m\u001b[43m)\u001b[49m[\u001b[38;5;241m0\u001b[39m]\n\u001b[1;32m    111\u001b[0m \u001b[38;5;28mself\u001b[39m\u001b[38;5;241m.\u001b[39mNr          \u001b[38;5;241m=\u001b[39m kwargs\u001b[38;5;241m.\u001b[39mget(\u001b[38;5;124m'\u001b[39m\u001b[38;5;124mNr\u001b[39m\u001b[38;5;124m'\u001b[39m,          \u001b[38;5;241m300\u001b[39m)\n\u001b[1;32m    112\u001b[0m \u001b[38;5;28mself\u001b[39m\u001b[38;5;241m.\u001b[39mNr_min      \u001b[38;5;241m=\u001b[39m \u001b[38;5;28mself\u001b[39m\u001b[38;5;241m.\u001b[39mNr\n",
      "File \u001b[0;32m/opt/anaconda3/envs/ringdown/lib/python3.10/site-packages/qnm/schwarzschild/tabulated.py:248\u001b[0m, in \u001b[0;36mQNMDict.__call__\u001b[0;34m(self, s, l, n)\u001b[0m\n\u001b[1;32m    242\u001b[0m \u001b[38;5;66;03m# This is idempotent, no danger in \"extending\" if the data\u001b[39;00m\n\u001b[1;32m    243\u001b[0m \u001b[38;5;66;03m# have already been computed. Go to n+2 to try to guard\u001b[39;00m\n\u001b[1;32m    244\u001b[0m \u001b[38;5;66;03m# against skipping an overtone in the sequence.\u001b[39;00m\n\u001b[1;32m    245\u001b[0m \u001b[38;5;66;03m# This can raise an exception.\u001b[39;00m\n\u001b[1;32m    246\u001b[0m seq\u001b[38;5;241m.\u001b[39mextend(n_max\u001b[38;5;241m=\u001b[39mn\u001b[38;5;241m+\u001b[39m\u001b[38;5;241m2\u001b[39m)\n\u001b[0;32m--> 248\u001b[0m \u001b[38;5;28;01mreturn\u001b[39;00m (\u001b[43mseq\u001b[49m\u001b[38;5;241;43m.\u001b[39;49m\u001b[43momega\u001b[49m\u001b[43m[\u001b[49m\u001b[43mn\u001b[49m\u001b[43m]\u001b[49m, seq\u001b[38;5;241m.\u001b[39mcf_err[n], \u001b[38;5;28mint\u001b[39m(seq\u001b[38;5;241m.\u001b[39mn_frac[n]))\n",
      "\u001b[0;31mIndexError\u001b[0m: only integers, slices (`:`), ellipsis (`...`), numpy.newaxis (`None`) and integer or boolean arrays are valid indices"
     ]
    },
    {
     "data": {
      "text/plain": [
       "<Figure size 720x288 with 0 Axes>"
      ]
     },
     "metadata": {},
     "output_type": "display_data"
    },
    {
     "data": {
      "text/plain": [
       "<Figure size 720x288 with 0 Axes>"
      ]
     },
     "metadata": {},
     "output_type": "display_data"
    },
    {
     "data": {
      "text/plain": [
       "<Figure size 720x288 with 0 Axes>"
      ]
     },
     "metadata": {},
     "output_type": "display_data"
    },
    {
     "data": {
      "text/plain": [
       "<Figure size 720x288 with 0 Axes>"
      ]
     },
     "metadata": {},
     "output_type": "display_data"
    },
    {
     "data": {
      "text/plain": [
       "<Figure size 720x288 with 0 Axes>"
      ]
     },
     "metadata": {},
     "output_type": "display_data"
    },
    {
     "data": {
      "text/plain": [
       "<Figure size 720x288 with 0 Axes>"
      ]
     },
     "metadata": {},
     "output_type": "display_data"
    }
   ],
   "source": [
    "xdata = time\n",
    "ydata = cond_hc\n",
    "p0 = [62,0.68,2,2,0,1.6e-18,np.pi]\n",
    "popt,pcov = curve_fit(two_two_zero,xdata,ydata,p0)"
   ]
  },
  {
   "cell_type": "code",
   "execution_count": null,
   "id": "c34b349d",
   "metadata": {},
   "outputs": [],
   "source": []
  }
 ],
 "metadata": {
  "kernelspec": {
   "display_name": "ringdown_kernel",
   "language": "python",
   "name": "ringdown_kernel"
  },
  "language_info": {
   "codemirror_mode": {
    "name": "ipython",
    "version": 3
   },
   "file_extension": ".py",
   "mimetype": "text/x-python",
   "name": "python",
   "nbconvert_exporter": "python",
   "pygments_lexer": "ipython3",
   "version": "3.10.5"
  }
 },
 "nbformat": 4,
 "nbformat_minor": 5
}
