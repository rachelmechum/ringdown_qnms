{
 "cells": [
  {
   "cell_type": "markdown",
   "id": "03831c61",
   "metadata": {},
   "source": [
    "# Remnant Parameter Estimation (SurfinBH)"
   ]
  },
  {
   "cell_type": "code",
   "execution_count": 1,
   "id": "2ff5053f",
   "metadata": {},
   "outputs": [
    {
     "name": "stdout",
     "output_type": "stream",
     "text": [
      "Loaded NRSur3dq8Remnant fit.\n"
     ]
    }
   ],
   "source": [
    "import surfinBH\n",
    "fit_name = 'NRSur3dq8Remnant'\n",
    "fit = surfinBH.LoadFits(fit_name)"
   ]
  },
  {
   "cell_type": "code",
   "execution_count": 2,
   "id": "3824c532",
   "metadata": {},
   "outputs": [],
   "source": [
    "q = 1.24             # Mass ratio q>=1\n",
    "chiA = [0,0,0]    # Spin of larger BH (z-direction only)\n",
    "chiB = [0,0,0]    # Spin of smaller BH (z-direction only)\n",
    "\n",
    "## Evaluate the fits and GPR error estimate.\n",
    "\n",
    "# remnant mass and 1-sigma error estimate\n",
    "mf, mf_err = fit.mf(q, chiA, chiB)\n",
    "\n",
    "# remnant spin and 1-sigma error estimate\n",
    "chif, chif_err = fit.chif(q, chiA, chiB)\n",
    "\n",
    "# remnant recoil kick and 1-sigma error estimate\n",
    "vf, vf_err = fit.vf(q, chiA, chiB)\n",
    "\n",
    "# All of these together\n",
    "mf, chif, vf, mf_err, chif_err, vf_err = fit.all(q, chiA, chiB)"
   ]
  },
  {
   "cell_type": "code",
   "execution_count": 26,
   "id": "32f6d6f4",
   "metadata": {},
   "outputs": [
    {
     "name": "stdout",
     "output_type": "stream",
     "text": [
      "[0.         0.         0.68007186]\n",
      "61.92344795441868\n"
     ]
    }
   ],
   "source": [
    "# z-direction only\n",
    "print(chif)\n",
    "# mf is returning m2/m1...so multiply it by (m1+m2)\n",
    "mf = mf*(36+29)\n",
    "print(mf)"
   ]
  },
  {
   "cell_type": "markdown",
   "id": "ee9daf3b",
   "metadata": {},
   "source": [
    "# IMR Time Domain Waveform"
   ]
  },
  {
   "cell_type": "code",
   "execution_count": 7,
   "id": "26aee653",
   "metadata": {},
   "outputs": [],
   "source": [
    "from pycbc.waveform import get_td_waveform\n",
    "from pycbc.types import TimeSeries"
   ]
  },
  {
   "cell_type": "code",
   "execution_count": 39,
   "id": "151c212a",
   "metadata": {},
   "outputs": [],
   "source": [
    "hp, hc = get_td_waveform(approximant=\"IMRPhenomXP\",\n",
    "                         mass1=36,\n",
    "                         mass2=29,\n",
    "                         delta_t=1.0/16384,\n",
    "                         f_lower=30,\n",
    "                         distance=1e-14)\n",
    "\n",
    "# sample times ---> timeseries\n",
    "hp_smp_ts = TimeSeries(hp.sample_times, delta_t=1/16384, epoch=0)\n",
    "# using crop on timeseries sample times - use cond for cropped sample times (aka ringdown analysis)\n",
    "cond = hp_smp_ts.crop(0.645,0)                                      \n",
    "\n",
    "# h+/hx data ---> timeseries\n",
    "hp_data = TimeSeries(hp, delta_t=1/16384, epoch=0)  \n",
    "# using crop on timeseries data (use cond_hp/hc for ringdown anaylsis)\n",
    "cond_hp = hp_data.crop(0.645,0)\n",
    "# turning into ndarray\n",
    "hp_signal = cond_hp.numpy()                  \n",
    "\n",
    "# repeat\n",
    "hc_data = TimeSeries(hc, delta_t=1/16384, epoch=0)              \n",
    "cond_hc = hc_data.crop(0.645,0)\n",
    "hc_signal = cond_hc.numpy()                                         \n",
    "\n",
    "# use for hp+hc ringdown analysis\n",
    "time = cond.numpy()              "
   ]
  },
  {
   "cell_type": "code",
   "execution_count": 27,
   "id": "9cf0949b",
   "metadata": {},
   "outputs": [],
   "source": [
    "import matplotlib.pyplot as plt"
   ]
  },
  {
   "cell_type": "code",
   "execution_count": 22,
   "id": "3f83cd5d",
   "metadata": {},
   "outputs": [
    {
     "data": {
      "text/plain": [
       "(array([-8.e-05, -6.e-05, -4.e-05, -2.e-05,  0.e+00,  2.e-05,  4.e-05,\n",
       "         6.e-05,  8.e-05,  1.e-04]),\n",
       " [Text(0, 0, ''),\n",
       "  Text(0, 0, ''),\n",
       "  Text(0, 0, ''),\n",
       "  Text(0, 0, ''),\n",
       "  Text(0, 0, ''),\n",
       "  Text(0, 0, ''),\n",
       "  Text(0, 0, ''),\n",
       "  Text(0, 0, ''),\n",
       "  Text(0, 0, ''),\n",
       "  Text(0, 0, '')])"
      ]
     },
     "execution_count": 22,
     "metadata": {},
     "output_type": "execute_result"
    },
    {
     "data": {
      "image/png": "[encoded data removed]",
      "text/plain": [
       "<Figure size 720x288 with 1 Axes>"
      ]
     },
     "metadata": {
      "needs_background": "light"
     },
     "output_type": "display_data"
    }
   ],
   "source": [
    "plt.figure(figsize=pylab.figaspect(0.4))\n",
    "plt.plot(cond, cond_hc, label='IMR Cross')\n",
    "plt.xlim(0, 0.03)\n",
    "plt.title('IMRPhenomXP Ringdown WF',fontsize=25)\n",
    "plt.xlabel('Time (s)',fontsize=20)\n",
    "plt.ylabel('Strain',fontsize=20)\n",
    "plt.xticks(fontsize=15)\n",
    "plt.yticks(fontsize=15)"
   ]
  },
  {
   "cell_type": "code",
   "execution_count": 67,
   "id": "d080b353",
   "metadata": {},
   "outputs": [],
   "source": [
    "def rngdwn(time,M,chi,l,m,n,amplitude,phi):\n",
    "    # using get_ftau to retrieve frequency and damping time for given values (ftau = [freq, tau])\n",
    "    ftau = ringdown.qnms.get_ftau(M,chi,n,l,m)\n",
    "    gamma = (ftau[1])**-1\n",
    "    t0=0\n",
    "        \n",
    "    wf_kws = dict(\n",
    "    A = amplitude,\n",
    "    phi = phi,\n",
    "    f = ftau[0],                                                            \n",
    "    gamma = gamma,                                                          \n",
    "    )\n",
    "        \n",
    "    def get_signal(time, A, phi, f, gamma):\n",
    "        # generate sinusoid\n",
    "        s = A*np.cos(2*np.pi*f*(time-t0) + phi)*np.exp(-gamma*abs(time-t0))\n",
    "        return ringdown.Data(s, index=time)\n",
    "\n",
    "    signal = get_signal(time, **wf_kws)\n",
    "    \n",
    "    return signal"
   ]
  },
  {
   "cell_type": "code",
   "execution_count": 68,
   "id": "a41b4038",
   "metadata": {},
   "outputs": [],
   "source": [
    "import makefun"
   ]
  },
  {
   "cell_type": "code",
   "execution_count": 69,
   "id": "b5c18548",
   "metadata": {},
   "outputs": [],
   "source": [
    "# define what modes to use\n",
    "def rd_fun(modes=[(2,2,0),(2,2,1)]):\n",
    "    #create function signature\n",
    "    func_signature=\"rngdwn_multi_modes(time,M,chi\"\n",
    "    # loop through defined modes\n",
    "    for mode in modes:\n",
    "        l,m,n = mode\n",
    "        func_signature+= f\",amplitude{l}{m}{n},phi{l}{m}{n}\"\n",
    "    func_signature+=\")\"\n",
    "    # kwargs = a220, phi220, a221, phi221, ...\n",
    "    def new_fun(time,M,chi,**kwargs):\n",
    "        # creating empty time array to hold rngdwn() return\n",
    "        ex = np.zeros(time.shape)\n",
    "        # loop through defined modes\n",
    "        for mode in modes:\n",
    "            l,m,n=mode\n",
    "            # add back to empty time array\n",
    "            ex += rngdwn(time,M,chi,l,m,n,amplitude,phi)\n",
    "            print(time,M,chi,kwargs)\n",
    "        # return ex to have combined signal for all defined modes\n",
    "        return ex\n",
    "    # this fx now looks like what scipy.curve_fit expects...\n",
    "    return makefun.create_function(func_signature,new_fun)\n",
    "\n",
    "# let \"test = rd_fun\" // test now takes inputs of (time,M,chi,a220,phi220,a221,phi221) --> curve_fit can play with\n",
    "test = rd_fun()"
   ]
  },
  {
   "cell_type": "markdown",
   "id": "4fb477da",
   "metadata": {},
   "source": [
    "# scipy.curve_fit"
   ]
  },
  {
   "cell_type": "code",
   "execution_count": 70,
   "id": "bb733f81",
   "metadata": {},
   "outputs": [],
   "source": [
    "from scipy.optimize import curve_fit\n",
    "import numpy as np"
   ]
  },
  {
   "cell_type": "code",
   "execution_count": 71,
   "id": "9b8bfec4",
   "metadata": {},
   "outputs": [
    {
     "ename": "NameError",
     "evalue": "name 'amplitude' is not defined",
     "output_type": "error",
     "traceback": [
      "\u001b[0;31m---------------------------------------------------------------------------\u001b[0m",
      "\u001b[0;31mNameError\u001b[0m                                 Traceback (most recent call last)",
      "Input \u001b[0;32mIn [71]\u001b[0m, in \u001b[0;36m<cell line: 8>\u001b[0;34m()\u001b[0m\n\u001b[1;32m      6\u001b[0m p0 \u001b[38;5;241m=\u001b[39m [\u001b[38;5;241m62\u001b[39m,\u001b[38;5;241m0.68\u001b[39m,\u001b[38;5;241m1e-4\u001b[39m,np\u001b[38;5;241m.\u001b[39mpi,\u001b[38;5;241m1e-4\u001b[39m,np\u001b[38;5;241m.\u001b[39mpi]\n\u001b[1;32m      7\u001b[0m \u001b[38;5;66;03m#using curve_fit\u001b[39;00m\n\u001b[0;32m----> 8\u001b[0m popt,pcov \u001b[38;5;241m=\u001b[39m \u001b[43mcurve_fit\u001b[49m\u001b[43m(\u001b[49m\u001b[43mtest\u001b[49m\u001b[43m,\u001b[49m\u001b[43mxdata\u001b[49m\u001b[43m,\u001b[49m\u001b[43mydata\u001b[49m\u001b[43m,\u001b[49m\u001b[43mp0\u001b[49m\u001b[43m,\u001b[49m\u001b[43mbounds\u001b[49m\u001b[38;5;241;43m=\u001b[39;49m\u001b[43m(\u001b[49m\u001b[43m[\u001b[49m\u001b[38;5;241;43m50\u001b[39;49m\u001b[43m,\u001b[49m\u001b[43m \u001b[49m\u001b[38;5;241;43m.5\u001b[39;49m\u001b[43m,\u001b[49m\u001b[43m \u001b[49m\u001b[38;5;241;43m1e-6\u001b[39;49m\u001b[43m,\u001b[49m\u001b[43m \u001b[49m\u001b[38;5;241;43m0\u001b[39;49m\u001b[43m,\u001b[49m\u001b[43m \u001b[49m\u001b[38;5;241;43m1e-6\u001b[39;49m\u001b[43m,\u001b[49m\u001b[43m \u001b[49m\u001b[38;5;241;43m0\u001b[39;49m\u001b[43m]\u001b[49m\u001b[43m,\u001b[49m\u001b[43m \u001b[49m\u001b[43m[\u001b[49m\u001b[38;5;241;43m80\u001b[39;49m\u001b[43m,\u001b[49m\u001b[43m \u001b[49m\u001b[38;5;241;43m.85\u001b[39;49m\u001b[43m,\u001b[49m\u001b[43m \u001b[49m\u001b[38;5;241;43m1e-3\u001b[39;49m\u001b[43m,\u001b[49m\u001b[43m \u001b[49m\u001b[38;5;241;43m2\u001b[39;49m\u001b[38;5;241;43m*\u001b[39;49m\u001b[43mnp\u001b[49m\u001b[38;5;241;43m.\u001b[39;49m\u001b[43mpi\u001b[49m\u001b[43m,\u001b[49m\u001b[43m \u001b[49m\u001b[38;5;241;43m1e-3\u001b[39;49m\u001b[43m,\u001b[49m\u001b[43m \u001b[49m\u001b[38;5;241;43m2\u001b[39;49m\u001b[38;5;241;43m*\u001b[39;49m\u001b[43mnp\u001b[49m\u001b[38;5;241;43m.\u001b[39;49m\u001b[43mpi\u001b[49m\u001b[43m]\u001b[49m\u001b[43m)\u001b[49m\u001b[43m)\u001b[49m\n",
      "File \u001b[0;32m/opt/anaconda3/envs/ringdown/lib/python3.10/site-packages/scipy/optimize/_minpack_py.py:800\u001b[0m, in \u001b[0;36mcurve_fit\u001b[0;34m(f, xdata, ydata, p0, sigma, absolute_sigma, check_finite, bounds, method, jac, **kwargs)\u001b[0m\n\u001b[1;32m    797\u001b[0m \u001b[38;5;28;01mif\u001b[39;00m \u001b[38;5;124m'\u001b[39m\u001b[38;5;124mmax_nfev\u001b[39m\u001b[38;5;124m'\u001b[39m \u001b[38;5;129;01mnot\u001b[39;00m \u001b[38;5;129;01min\u001b[39;00m kwargs:\n\u001b[1;32m    798\u001b[0m     kwargs[\u001b[38;5;124m'\u001b[39m\u001b[38;5;124mmax_nfev\u001b[39m\u001b[38;5;124m'\u001b[39m] \u001b[38;5;241m=\u001b[39m kwargs\u001b[38;5;241m.\u001b[39mpop(\u001b[38;5;124m'\u001b[39m\u001b[38;5;124mmaxfev\u001b[39m\u001b[38;5;124m'\u001b[39m, \u001b[38;5;28;01mNone\u001b[39;00m)\n\u001b[0;32m--> 800\u001b[0m res \u001b[38;5;241m=\u001b[39m \u001b[43mleast_squares\u001b[49m\u001b[43m(\u001b[49m\u001b[43mfunc\u001b[49m\u001b[43m,\u001b[49m\u001b[43m \u001b[49m\u001b[43mp0\u001b[49m\u001b[43m,\u001b[49m\u001b[43m \u001b[49m\u001b[43mjac\u001b[49m\u001b[38;5;241;43m=\u001b[39;49m\u001b[43mjac\u001b[49m\u001b[43m,\u001b[49m\u001b[43m \u001b[49m\u001b[43mbounds\u001b[49m\u001b[38;5;241;43m=\u001b[39;49m\u001b[43mbounds\u001b[49m\u001b[43m,\u001b[49m\u001b[43m \u001b[49m\u001b[43mmethod\u001b[49m\u001b[38;5;241;43m=\u001b[39;49m\u001b[43mmethod\u001b[49m\u001b[43m,\u001b[49m\n\u001b[1;32m    801\u001b[0m \u001b[43m                    \u001b[49m\u001b[38;5;241;43m*\u001b[39;49m\u001b[38;5;241;43m*\u001b[39;49m\u001b[43mkwargs\u001b[49m\u001b[43m)\u001b[49m\n\u001b[1;32m    803\u001b[0m \u001b[38;5;28;01mif\u001b[39;00m \u001b[38;5;129;01mnot\u001b[39;00m res\u001b[38;5;241m.\u001b[39msuccess:\n\u001b[1;32m    804\u001b[0m     \u001b[38;5;28;01mraise\u001b[39;00m \u001b[38;5;167;01mRuntimeError\u001b[39;00m(\u001b[38;5;124m\"\u001b[39m\u001b[38;5;124mOptimal parameters not found: \u001b[39m\u001b[38;5;124m\"\u001b[39m \u001b[38;5;241m+\u001b[39m res\u001b[38;5;241m.\u001b[39mmessage)\n",
      "File \u001b[0;32m/opt/anaconda3/envs/ringdown/lib/python3.10/site-packages/scipy/optimize/_lsq/least_squares.py:820\u001b[0m, in \u001b[0;36mleast_squares\u001b[0;34m(fun, x0, jac, bounds, method, ftol, xtol, gtol, x_scale, loss, f_scale, diff_step, tr_solver, tr_options, jac_sparsity, max_nfev, verbose, args, kwargs)\u001b[0m\n\u001b[1;32m    817\u001b[0m \u001b[38;5;28;01mif\u001b[39;00m method \u001b[38;5;241m==\u001b[39m \u001b[38;5;124m'\u001b[39m\u001b[38;5;124mtrf\u001b[39m\u001b[38;5;124m'\u001b[39m:\n\u001b[1;32m    818\u001b[0m     x0 \u001b[38;5;241m=\u001b[39m make_strictly_feasible(x0, lb, ub)\n\u001b[0;32m--> 820\u001b[0m f0 \u001b[38;5;241m=\u001b[39m \u001b[43mfun_wrapped\u001b[49m\u001b[43m(\u001b[49m\u001b[43mx0\u001b[49m\u001b[43m)\u001b[49m\n\u001b[1;32m    822\u001b[0m \u001b[38;5;28;01mif\u001b[39;00m f0\u001b[38;5;241m.\u001b[39mndim \u001b[38;5;241m!=\u001b[39m \u001b[38;5;241m1\u001b[39m:\n\u001b[1;32m    823\u001b[0m     \u001b[38;5;28;01mraise\u001b[39;00m \u001b[38;5;167;01mValueError\u001b[39;00m(\u001b[38;5;124m\"\u001b[39m\u001b[38;5;124m`fun` must return at most 1-d array_like. \u001b[39m\u001b[38;5;124m\"\u001b[39m\n\u001b[1;32m    824\u001b[0m                      \u001b[38;5;124m\"\u001b[39m\u001b[38;5;124mf0.shape: \u001b[39m\u001b[38;5;132;01m{0}\u001b[39;00m\u001b[38;5;124m\"\u001b[39m\u001b[38;5;241m.\u001b[39mformat(f0\u001b[38;5;241m.\u001b[39mshape))\n",
      "File \u001b[0;32m/opt/anaconda3/envs/ringdown/lib/python3.10/site-packages/scipy/optimize/_lsq/least_squares.py:815\u001b[0m, in \u001b[0;36mleast_squares.<locals>.fun_wrapped\u001b[0;34m(x)\u001b[0m\n\u001b[1;32m    814\u001b[0m \u001b[38;5;28;01mdef\u001b[39;00m \u001b[38;5;21mfun_wrapped\u001b[39m(x):\n\u001b[0;32m--> 815\u001b[0m     \u001b[38;5;28;01mreturn\u001b[39;00m np\u001b[38;5;241m.\u001b[39matleast_1d(\u001b[43mfun\u001b[49m\u001b[43m(\u001b[49m\u001b[43mx\u001b[49m\u001b[43m,\u001b[49m\u001b[43m \u001b[49m\u001b[38;5;241;43m*\u001b[39;49m\u001b[43margs\u001b[49m\u001b[43m,\u001b[49m\u001b[43m \u001b[49m\u001b[38;5;241;43m*\u001b[39;49m\u001b[38;5;241;43m*\u001b[39;49m\u001b[43mkwargs\u001b[49m\u001b[43m)\u001b[49m)\n",
      "File \u001b[0;32m/opt/anaconda3/envs/ringdown/lib/python3.10/site-packages/scipy/optimize/_minpack_py.py:485\u001b[0m, in \u001b[0;36m_wrap_func.<locals>.func_wrapped\u001b[0;34m(params)\u001b[0m\n\u001b[1;32m    484\u001b[0m \u001b[38;5;28;01mdef\u001b[39;00m \u001b[38;5;21mfunc_wrapped\u001b[39m(params):\n\u001b[0;32m--> 485\u001b[0m     \u001b[38;5;28;01mreturn\u001b[39;00m \u001b[43mfunc\u001b[49m\u001b[43m(\u001b[49m\u001b[43mxdata\u001b[49m\u001b[43m,\u001b[49m\u001b[43m \u001b[49m\u001b[38;5;241;43m*\u001b[39;49m\u001b[43mparams\u001b[49m\u001b[43m)\u001b[49m \u001b[38;5;241m-\u001b[39m ydata\n",
      "File \u001b[0;32m<makefun-gen-17>:2\u001b[0m, in \u001b[0;36mrngdwn_multi_modes\u001b[0;34m(time, M, chi, amplitude220, phi220, amplitude221, phi221)\u001b[0m\n",
      "Input \u001b[0;32mIn [69]\u001b[0m, in \u001b[0;36mrd_fun.<locals>.new_fun\u001b[0;34m(time, M, chi, **kwargs)\u001b[0m\n\u001b[1;32m     16\u001b[0m     l,m,n\u001b[38;5;241m=\u001b[39mmode\n\u001b[1;32m     17\u001b[0m     \u001b[38;5;66;03m# add back to empty time array\u001b[39;00m\n\u001b[0;32m---> 18\u001b[0m     ex \u001b[38;5;241m+\u001b[39m\u001b[38;5;241m=\u001b[39m rngdwn(time,M,chi,l,m,n,\u001b[43mamplitude\u001b[49m,phi)\n\u001b[1;32m     19\u001b[0m     \u001b[38;5;28mprint\u001b[39m(time,M,chi,kwargs)\n\u001b[1;32m     20\u001b[0m \u001b[38;5;66;03m# return ex to have combined signal for all defined modes\u001b[39;00m\n",
      "\u001b[0;31mNameError\u001b[0m: name 'amplitude' is not defined"
     ]
    }
   ],
   "source": [
    "# xdata is time from IMR cell ^^^\n",
    "xdata = time\n",
    "# ydata is data from IMR cell ^^^\n",
    "ydata = cond_hc\n",
    "# p0 is my initial guesses\n",
    "p0 = [62,0.68,1e-4,np.pi,1e-4,np.pi]\n",
    "#using curve_fit\n",
    "popt,pcov = curve_fit(test,xdata,ydata,p0,bounds=([50, .5, 1e-6, 0, 1e-6, 0], [80, .85, 1e-3, 2*np.pi, 1e-3, 2*np.pi]))\n"
   ]
  },
  {
   "cell_type": "code",
   "execution_count": null,
   "id": "b94ed53d",
   "metadata": {},
   "outputs": [],
   "source": []
  }
 ],
 "metadata": {
  "kernelspec": {
   "display_name": "ringdown_kernel",
   "language": "python",
   "name": "ringdown_kernel"
  },
  "language_info": {
   "codemirror_mode": {
    "name": "ipython",
    "version": 3
   },
   "file_extension": ".py",
   "mimetype": "text/x-python",
   "name": "python",
   "nbconvert_exporter": "python",
   "pygments_lexer": "ipython3",
   "version": "3.10.5"
  }
 },
 "nbformat": 4,
 "nbformat_minor": 5
}
