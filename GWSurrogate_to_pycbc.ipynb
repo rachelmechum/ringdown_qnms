{
 "cells": [
  {
   "cell_type": "code",
   "execution_count": 1,
   "metadata": {},
   "outputs": [
    {
     "name": "stderr",
     "output_type": "stream",
     "text": [
      "/opt/anaconda3/envs/ringdown/lib/python3.10/site-packages/gwtools/rotations.py:63: UserWarning: Could not import GWFrames, needed for rotations module\n",
      "  _warnings.warn(\"Could not import GWFrames, needed for rotations module\")\n",
      "/opt/anaconda3/envs/ringdown/lib/python3.10/site-packages/gwtools/__init__.py:11: UserWarning: Could not import rotations, decompositions, or fitfuncs. These are not needed by GWSurrogate.\n",
      "  _warnings.warn(\"Could not import rotations, decompositions, or fitfuncs. These are not needed by GWSurrogate.\")\n"
     ]
    },
    {
     "name": "stdout",
     "output_type": "stream",
     "text": [
      "setting __package__ to gwsurrogate.new so relative imports work\n",
      "__name__ = gwsurrogate.new.spline_evaluation\n",
      "__package__= gwsurrogate.new\n",
      "setting __package__ to gwsurrogate.new so relative imports work\n",
      "setting __package__ to gwsurrogate.new so relative imports work\n"
     ]
    },
    {
     "name": "stderr",
     "output_type": "stream",
     "text": [
      "PyCBC.libutils: pkg-config call failed, setting NO_PKGCONFIG=1\n"
     ]
    }
   ],
   "source": [
    "import numpy as np\n",
    "import gwsurrogate\n",
    "import matplotlib.pyplot as plt\n",
    "%matplotlib inline\n",
    "from pycbc.types import TimeSeries"
   ]
  },
  {
   "cell_type": "code",
   "execution_count": 2,
   "metadata": {},
   "outputs": [
    {
     "data": {
      "text/plain": [
       "'/opt/anaconda3/envs/ringdown/lib/python3.10/site-packages/gwsurrogate/surrogate_downloadsNRHybSur3dq8.h5'"
      ]
     },
     "execution_count": 2,
     "metadata": {},
     "output_type": "execute_result"
    }
   ],
   "source": [
    "# This can take a few minutes\n",
    "gwsurrogate.catalog.pull('NRHybSur3dq8')"
   ]
  },
  {
   "cell_type": "code",
   "execution_count": 3,
   "metadata": {},
   "outputs": [
    {
     "name": "stdout",
     "output_type": "stream",
     "text": [
      "Loaded NRHybSur3dq8 model\n"
     ]
    },
    {
     "data": {
      "text/plain": [
       "gwsurrogate.surrogate.NRHybSur3dq8"
      ]
     },
     "execution_count": 3,
     "metadata": {},
     "output_type": "execute_result"
    }
   ],
   "source": [
    "sur = gwsurrogate.LoadSurrogate('NRHybSur3dq8')\n",
    "type(sur)"
   ]
  },
  {
   "cell_type": "code",
   "execution_count": 4,
   "metadata": {},
   "outputs": [
    {
     "name": "stdout",
     "output_type": "stream",
     "text": [
      "[7.85207906e-02+0.00000000e+00j 7.85207497e-02-1.87547729e-04j\n",
      " 7.85202609e-02-3.75095937e-04j ... 1.49585322e-05-1.48971767e-05j\n",
      " 1.26867753e-05-1.55188599e-05j 1.04385665e-05-1.58564611e-05j]\n"
     ]
    }
   ],
   "source": [
    "q = 1\n",
    "chiA = [0, 0, 0]\n",
    "chiB = [0, 0, 0]\n",
    "f_low = 0  # this will be ignored and the wavefrom will be returned on the times given below\n",
    "times = np.arange(-10000,130,0.1)\n",
    "# The returned times are the same as the input times\n",
    "times, h, dyn = sur(q, chiA, chiB, times=times, f_low=f_low)\n",
    "print(h[(2,2)])"
   ]
  },
  {
   "cell_type": "code",
   "execution_count": 5,
   "metadata": {},
   "outputs": [],
   "source": [
    "def wrap_surrogate_to_pycbc(\n",
    "    sur,\n",
    "    mass_1,\n",
    "    mass_2,\n",
    "    spin_1x,\n",
    "    spin_1y,\n",
    "    spin_1z,\n",
    "    spin_2x,\n",
    "    spin_2y,\n",
    "    spin_2z,\n",
    "    luminosity_distance=1,\n",
    "    incl=None,\n",
    "    phi=None,\n",
    "    f_low=None,\n",
    "    dt=None,\n",
    "    mode_list=None):\n",
    "    \"\"\"\n",
    "    sur ::gwsurrogate.surrogate object\n",
    "        The surrogate to use, as loaded from gwsurrogate.LoadSurrogate()\n",
    "    mass_1 ::float\n",
    "        The mass of the primary in MSun\n",
    "    mass_2 ::float\n",
    "        The mass of the secondary in MSun\n",
    "    spin_1x ::float\n",
    "        The dimensionless spin component in the x direction of the primary\n",
    "    spin_1y ::float\n",
    "        The dimensionless spin component in the y direction of the primary\n",
    "    spin_1z ::float\n",
    "        The dimensionless spin component in the z direction of the primary\n",
    "    spin_2x ::float\n",
    "        The dimensionless spin component in the x direction of the secondary\n",
    "    spin_2y ::float\n",
    "        The dimensionless spin component in the y direction of the secondary\n",
    "    spin_2z ::float\n",
    "        The dimensionless spin component in the z direction of the secondary\n",
    "    luminosity_distance ::float\n",
    "        The luminosity distance to the system in Mpc, defaults to 1\n",
    "    incl ::float\n",
    "        The inclination of the system - if not passed then modes will remain uncombined\n",
    "    phi ::float\n",
    "        The reference phase of the system - must be passed with incl to combine modes\n",
    "    f_low ::float\n",
    "        The lower frequency in Hz at which to generate the waveform\n",
    "    dt ::float \n",
    "        The sampling rate for the waveform, should generally be 1 / 2^n for some n (e.g. 1 / 4096)\n",
    "    mode_list ::list\n",
    "        A list of modes, each a tuple (l,m) to generate the waveform with\n",
    "    \"\"\"\n",
    "    # NR Convention\n",
    "    q = mass_1 / mass_2\n",
    "    chi1 = [spin_1x, spin_1y, spin_1z]\n",
    "    chi2 = [spin_2x, spin_2y, spin_2z]\n",
    "    total_mass = mass_1 + mass_2\n",
    "    \n",
    "    if (incl is None) != (phi is None):\n",
    "        raise ValueError(\n",
    "            \"Either both of incl and phi should be specified, or neither should be\"\n",
    "        )\n",
    "    \n",
    "    times, h, _ = sur(\n",
    "        q,\n",
    "        chi1,\n",
    "        chi2,\n",
    "        M=total_mass,\n",
    "        f_low=f_low,\n",
    "        dt=dt,\n",
    "        mode_list = mode_list,\n",
    "        inclination=incl,\n",
    "        phi_ref=phi,\n",
    "        dist_mpc=luminosity_distance,\n",
    "        units='mks'\n",
    "    )\n",
    "    \n",
    "    if incl is not None:\n",
    "        hp = TimeSeries(np.real(h), delta_t=dt)\n",
    "        hc = TimeSeries(-np.imag(h), delta_t=dt)\n",
    "        \n",
    "    else:\n",
    "        hp = dict()\n",
    "        hc = dict()\n",
    "        for mode, hlm in h.items():\n",
    "            hp[mode] = TimeSeries(np.real(h[mode]), delta_t=dt)\n",
    "            hc[mode] = TimeSeries(-np.imag(h[mode]), delta_t=dt)\n",
    "    \n",
    "    \n",
    "    \n",
    "    return hp, hc\n",
    "    "
   ]
  },
  {
   "cell_type": "code",
   "execution_count": 18,
   "metadata": {},
   "outputs": [],
   "source": [
    "hp_modes, hc_modes = wrap_surrogate_to_pycbc(sur, 35, 29, 0, 0, 0.65, 0, 0, 0.75, f_low=20, dt=1 / 16384.)"
   ]
  },
  {
   "cell_type": "code",
   "execution_count": 32,
   "metadata": {},
   "outputs": [
    {
     "data": {
      "text/plain": [
       "(0.95, 0.97)"
      ]
     },
     "execution_count": 32,
     "metadata": {},
     "output_type": "execute_result"
    },
    {
     "data": {
      "image/png": "[encoded data removed]",
      "text/plain": [
       "<Figure size 576x288 with 1 Axes>"
      ]
     },
     "metadata": {
      "needs_background": "light"
     },
     "output_type": "display_data"
    }
   ],
   "source": [
    "test_22 = hp_modes[(2,2)]\n",
    "plt.figure(figsize=((8,4)))\n",
    "plt.plot(test_22.sample_times, test_22)\n",
    "plt.xlim(0.95,0.97)"
   ]
  },
  {
   "cell_type": "code",
   "execution_count": null,
   "metadata": {},
   "outputs": [],
   "source": []
  }
 ],
 "metadata": {
  "kernelspec": {
   "display_name": "ringdown_kernel",
   "language": "python",
   "name": "ringdown_kernel"
  },
  "language_info": {
   "codemirror_mode": {
    "name": "ipython",
    "version": 3
   },
   "file_extension": ".py",
   "mimetype": "text/x-python",
   "name": "python",
   "nbconvert_exporter": "python",
   "pygments_lexer": "ipython3",
   "version": "3.10.5"
  }
 },
 "nbformat": 4,
 "nbformat_minor": 4
}
