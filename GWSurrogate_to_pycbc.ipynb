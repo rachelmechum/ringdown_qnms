{
 "cells": [
  {
   "cell_type": "code",
   "execution_count": 1,
   "metadata": {},
   "outputs": [
    {
     "name": "stderr",
     "output_type": "stream",
     "text": [
<<<<<<< HEAD
      "/opt/anaconda3/envs/ringdown/lib/python3.10/site-packages/gwtools/rotations.py:63: UserWarning: Could not import GWFrames, needed for rotations module\n",
      "  _warnings.warn(\"Could not import GWFrames, needed for rotations module\")\n",
      "/opt/anaconda3/envs/ringdown/lib/python3.10/site-packages/gwtools/__init__.py:11: UserWarning: Could not import rotations, decompositions, or fitfuncs. These are not needed by GWSurrogate.\n",
=======
      "/home/rudall/miniconda3/envs/ringdown/lib/python3.10/site-packages/gwtools/rotations.py:63: UserWarning: Could not import GWFrames, needed for rotations module\n",
      "  _warnings.warn(\"Could not import GWFrames, needed for rotations module\")\n",
      "/home/rudall/miniconda3/envs/ringdown/lib/python3.10/site-packages/gwtools/__init__.py:11: UserWarning: Could not import rotations, decompositions, or fitfuncs. These are not needed by GWSurrogate.\n",
>>>>>>> 6c563e07a953650ac7fe81b1fb05f1be77e8d14e
      "  _warnings.warn(\"Could not import rotations, decompositions, or fitfuncs. These are not needed by GWSurrogate.\")\n"
     ]
    },
    {
     "name": "stdout",
     "output_type": "stream",
     "text": [
      "setting __package__ to gwsurrogate.new so relative imports work\n",
      "__name__ = gwsurrogate.new.spline_evaluation\n",
      "__package__= gwsurrogate.new\n",
      "setting __package__ to gwsurrogate.new so relative imports work\n",
      "setting __package__ to gwsurrogate.new so relative imports work\n"
     ]
<<<<<<< HEAD
    },
    {
     "name": "stderr",
     "output_type": "stream",
     "text": [
      "PyCBC.libutils: pkg-config call failed, setting NO_PKGCONFIG=1\n"
     ]
=======
>>>>>>> 6c563e07a953650ac7fe81b1fb05f1be77e8d14e
    }
   ],
   "source": [
    "import numpy as np\n",
    "import gwsurrogate\n",
    "import matplotlib.pyplot as plt\n",
    "%matplotlib inline\n",
    "from pycbc.types import TimeSeries"
   ]
  },
  {
   "cell_type": "code",
   "execution_count": 2,
   "metadata": {},
<<<<<<< HEAD
   "outputs": [
    {
     "data": {
      "text/plain": [
       "'/opt/anaconda3/envs/ringdown/lib/python3.10/site-packages/gwsurrogate/surrogate_downloadsNRHybSur3dq8.h5'"
      ]
     },
     "execution_count": 2,
     "metadata": {},
     "output_type": "execute_result"
    }
   ],
=======
   "outputs": [],
>>>>>>> 6c563e07a953650ac7fe81b1fb05f1be77e8d14e
   "source": [
    "# This can take a few minutes\n",
    "#gwsurrogate.catalog.pull('NRHybSur3dq8')"
   ]
  },
  {
   "cell_type": "code",
   "execution_count": 3,
   "metadata": {},
   "outputs": [
    {
     "name": "stdout",
     "output_type": "stream",
     "text": [
      "Loaded NRHybSur3dq8 model\n"
     ]
    },
    {
     "data": {
      "text/plain": [
       "gwsurrogate.surrogate.NRHybSur3dq8"
      ]
     },
     "execution_count": 3,
     "metadata": {},
     "output_type": "execute_result"
    }
   ],
   "source": [
    "sur = gwsurrogate.LoadSurrogate('NRHybSur3dq8')\n",
    "type(sur)"
   ]
  },
  {
   "cell_type": "code",
   "execution_count": 4,
   "metadata": {},
   "outputs": [
    {
     "name": "stdout",
     "output_type": "stream",
     "text": [
      "[7.85207906e-02+0.00000000e+00j 7.85207497e-02-1.87547729e-04j\n",
      " 7.85202609e-02-3.75095937e-04j ... 1.49585322e-05-1.48971767e-05j\n",
      " 1.26867753e-05-1.55188599e-05j 1.04385665e-05-1.58564611e-05j]\n"
     ]
    }
   ],
   "source": [
    "q = 1\n",
    "chiA = [0, 0, 0]\n",
    "chiB = [0, 0, 0]\n",
    "f_low = 0  # this will be ignored and the wavefrom will be returned on the times given below\n",
    "times = np.arange(-10000,130,0.1)\n",
    "# The returned times are the same as the input times\n",
    "times, h, dyn = sur(q, chiA, chiB, times=times, f_low=f_low)\n",
    "print(h[(2,2)])"
   ]
  },
  {
   "cell_type": "code",
   "execution_count": 5,
   "metadata": {},
   "outputs": [],
   "source": [
    "def wrap_surrogate_to_pycbc(\n",
    "    sur,\n",
    "    mass_1,\n",
    "    mass_2,\n",
    "    spin_1x=0,\n",
    "    spin_1y=0,\n",
    "    spin_1z=0,\n",
    "    spin_2x=0,\n",
    "    spin_2y=0,\n",
    "    spin_2z=0,\n",
    "    luminosity_distance=1,\n",
    "    incl=None,\n",
    "    phi=None,\n",
    "    f_low=20,\n",
    "    dt=1 / 4096.,\n",
    "    mode_list=None):\n",
    "    \"\"\"\n",
    "    sur ::gwsurrogate.surrogate object\n",
    "        The surrogate to use, as loaded from gwsurrogate.LoadSurrogate()\n",
    "    mass_1 ::float\n",
    "        The mass of the primary in MSun\n",
    "    mass_2 ::float\n",
    "        The mass of the secondary in MSun\n",
    "    spin_1x ::float\n",
    "        The dimensionless spin component in the x direction of the primary\n",
    "    spin_1y ::float\n",
    "        The dimensionless spin component in the y direction of the primary\n",
    "    spin_1z ::float\n",
    "        The dimensionless spin component in the z direction of the primary\n",
    "    spin_2x ::float\n",
    "        The dimensionless spin component in the x direction of the secondary\n",
    "    spin_2y ::float\n",
    "        The dimensionless spin component in the y direction of the secondary\n",
    "    spin_2z ::float\n",
    "        The dimensionless spin component in the z direction of the secondary\n",
    "    luminosity_distance ::float\n",
    "        The luminosity distance to the system in Mpc, defaults to 1\n",
    "    incl ::float\n",
    "        The inclination of the system - if not passed then modes will remain uncombined\n",
    "    phi ::float\n",
    "        The reference phase of the system - must be passed with incl to combine modes\n",
    "    f_low ::float\n",
    "        The lower frequency in Hz at which to generate the waveform\n",
    "    dt ::float \n",
    "        The sampling rate for the waveform, should generally be 1 / 2^n for some n (e.g. 1 / 4096)\n",
    "    mode_list ::list\n",
    "        A list of modes, each a tuple (l,m) to generate the waveform with\n",
    "    \"\"\"\n",
    "    # NR Convention\n",
    "    q = mass_1 / mass_2\n",
    "    chi1 = [spin_1x, spin_1y, spin_1z]\n",
    "    chi2 = [spin_2x, spin_2y, spin_2z]\n",
    "    total_mass = mass_1 + mass_2\n",
    "\n",
    "    if (incl is None) != (phi is None):\n",
    "        raise ValueError(\n",
    "            \"Either both of incl and phi should be specified, or neither should be\"\n",
    "        )\n",
    "    \n",
    "    # Get waveform from surrogate\n",
    "    _, h, _ = sur(\n",
    "        q,\n",
    "        chi1,\n",
    "        chi2,\n",
    "        M=total_mass,\n",
    "        f_low=f_low,\n",
    "        dt=dt,\n",
    "        mode_list = mode_list,\n",
    "        inclination=incl,\n",
    "        phi_ref=phi,\n",
    "        dist_mpc=luminosity_distance,\n",
    "        units='mks'\n",
    "    )\n",
    "    \n",
    "    # If combined modes then h is just a complex valued np array\n",
    "    if incl is not None:\n",
    "        hp = TimeSeries(np.real(h), delta_t=dt)\n",
    "        hc = TimeSeries(-np.imag(h), delta_t=dt)\n",
    "    # Not combined modes --> h is a dict of complex valued arrays\n",
    "    else:\n",
    "        hp = dict()\n",
    "        hc = dict()\n",
    "        for mode, hlm in h.items():\n",
    "            hp[mode] = TimeSeries(np.real(h[mode]), delta_t=dt)\n",
    "            hc[mode] = TimeSeries(-np.imag(h[mode]), delta_t=dt)\n",
    "\n",
    "    return hp, hc\n",
    "    "
   ]
  },
  {
   "cell_type": "code",
<<<<<<< HEAD
   "execution_count": 18,
=======
   "execution_count": 6,
>>>>>>> 6c563e07a953650ac7fe81b1fb05f1be77e8d14e
   "metadata": {},
   "outputs": [],
   "source": [
    "hp_modes, hc_modes = wrap_surrogate_to_pycbc(sur, 35, 29, 0, 0, 0.65, 0, 0, 0.75, f_low=20, dt=1 / 16384.)"
   ]
  },
  {
   "cell_type": "code",
<<<<<<< HEAD
   "execution_count": 32,
=======
   "execution_count": 7,
>>>>>>> 6c563e07a953650ac7fe81b1fb05f1be77e8d14e
   "metadata": {},
   "outputs": [
    {
     "data": {
      "text/plain": [
<<<<<<< HEAD
       "(0.95, 0.97)"
      ]
     },
     "execution_count": 32,
=======
       "[<matplotlib.lines.Line2D at 0x7f3d18f3a350>]"
      ]
     },
     "execution_count": 7,
>>>>>>> 6c563e07a953650ac7fe81b1fb05f1be77e8d14e
     "metadata": {},
     "output_type": "execute_result"
    },
    {
     "data": {
<<<<<<< HEAD
      "image/png": "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\n",
=======
      "image/png": "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",
>>>>>>> 301905d3a22bcbf23d3fb378b2d3e6c50c3750ad
      "text/plain": [
       "<Figure size 576x288 with 1 Axes>"
      ]
     },
     "metadata": {
      "needs_background": "light"
     },
     "output_type": "display_data"
    }
   ],
   "source": [
    "test_22 = hp_modes[(2,2)]\n",
    "plt.figure(figsize=((8,4)))\n",
    "plt.plot(test_22.sample_times, test_22)\n",
    "plt.xlim(0.95,0.97)"
   ]
  },
  {
   "cell_type": "code",
   "execution_count": 8,
   "metadata": {},
   "outputs": [],
   "source": [
    "import makefun\n",
    "# See https://smarie.github.io/python-makefun/\n",
    "\n",
    "# A demonstration, here we are constructing a polynomial to fit with\n",
    "def polynomial_term(x, a, n):\n",
    "    # make a single term in a polynomial, given the coefficient and the power\n",
    "    return a * x ** n\n",
    "\n",
    "# This function will return a combined function\n",
    "def make_polynomial_function(nmax=2):\n",
    "    # Setup the function's desired call signature\n",
    "    func_sig = \"polynomial_function(x\"\n",
    "    for n in range(nmax):\n",
    "        func_sig += f\",a{n}\"\n",
    "    func_sig += \")\"\n",
    "    print(func_sig)\n",
    "    \n",
    "    # make the actual function itself, using *args\n",
    "    def unwrapped_polynomial(x, **kwargs):\n",
    "        polynomial = 0\n",
    "        for key, val in kwargs.items():\n",
    "            order = float(key[1:])\n",
    "            polynomial += polynomial_term(x, val, order)\n",
    "        return polynomial\n",
    "            \n",
    "    return makefun.create_function(func_sig, unwrapped_polynomial)"
   ]
  },
  {
   "cell_type": "code",
   "execution_count": 26,
   "metadata": {},
   "outputs": [
    {
     "name": "stdout",
     "output_type": "stream",
     "text": [
      "polynomial_function(x,a0,a1)\n"
     ]
    }
   ],
   "source": [
    "test_func = make_polynomial_function(nmax=2)"
   ]
  },
  {
   "cell_type": "code",
   "execution_count": 27,
   "metadata": {},
   "outputs": [],
   "source": [
    "test = test_func(np.arange(15), 2, 2)"
   ]
  },
  {
   "cell_type": "code",
   "execution_count": 23,
   "metadata": {},
   "outputs": [
    {
     "name": "stdout",
     "output_type": "stream",
     "text": [
      "[      4      14      42     100     200     354     574     872    1260\n",
      "    1750    2354    3084    3952    4970    6150    7504    9044   10782\n",
      "   12730   14900   17304   19954   22862   26040   29500   33254   37314\n",
      "   41692   46400   51450   56854   62624   68772   75310   82250   89604\n",
      "   97384  105602  114270  123400  133004  143094  153682  164780  176400\n",
      "  188554  201254  214512  228340  242750  257754  273364  289592  306450\n",
      "  323950  342104  360924  380422  400610  421500  443104  465434  488502\n",
      "  512320  536900  562254  588394  615332  643080  671650  701054  731304\n",
      "  762412  794390  827250  861004  895664  931242  967750 1005200 1043604\n",
      " 1082974 1123322 1164660 1207000 1250354 1294734 1340152 1386620 1434150\n",
      " 1482754 1532444 1583232 1635130 1688150 1742304 1797604 1854062 1911690\n",
      " 1970500]\n"
     ]
    }
   ],
   "source": [
    "test_x_values = np.arange(100)\n",
    "polynomial_to_fit = 4 + 5 * test_x_values + 3 * test_x_values ** 2 + 2 * test_x_values ** 3\n",
    "print(polynomial_to_fit)"
   ]
  },
  {
   "cell_type": "code",
   "execution_count": 32,
   "metadata": {},
   "outputs": [
    {
     "name": "stdout",
     "output_type": "stream",
     "text": [
      "polynomial_function(x,a0,a1,a2,a3)\n"
     ]
    }
   ],
   "source": [
    "fitting_func = make_polynomial_function(nmax=4)\n",
    "from scipy.optimize import curve_fit\n",
    "attempt_fit = curve_fit(fitting_func, test_x_values, polynomial_to_fit, [0,0,0,0])"
   ]
  },
  {
   "cell_type": "code",
   "execution_count": 33,
   "metadata": {},
   "outputs": [
    {
     "name": "stdout",
     "output_type": "stream",
     "text": [
      "(array([4., 5., 3., 2.]), array([[ 2.35620369e-25, -1.77564438e-26,  3.56892414e-28,\n",
      "        -2.09233408e-30],\n",
      "       [-1.77564438e-26,  1.82125418e-27, -4.14633815e-29,\n",
      "         2.60174986e-31],\n",
      "       [ 3.56892414e-28, -4.14633815e-29,  1.00913480e-30,\n",
      "        -6.60320025e-33],\n",
      "       [-2.09233408e-30,  2.60174986e-31, -6.60320025e-33,\n",
      "         4.44659948e-35]]))\n"
     ]
    }
   ],
   "source": [
    "print(attempt_fit)"
   ]
  },
  {
   "cell_type": "code",
   "execution_count": null,
   "metadata": {},
   "outputs": [],
   "source": []
  }
 ],
 "metadata": {
  "kernelspec": {
   "display_name": "ringdown_kernel",
   "language": "python",
   "name": "ringdown_kernel"
  },
  "language_info": {
   "codemirror_mode": {
    "name": "ipython",
    "version": 3
   },
   "file_extension": ".py",
   "mimetype": "text/x-python",
   "name": "python",
   "nbconvert_exporter": "python",
   "pygments_lexer": "ipython3",
   "version": "3.10.5"
  }
 },
 "nbformat": 4,
 "nbformat_minor": 4
}
