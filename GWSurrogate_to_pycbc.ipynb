{
 "cells": [
  {
   "cell_type": "code",
   "execution_count": 1,
   "metadata": {},
   "outputs": [
    {
     "name": "stderr",
     "output_type": "stream",
     "text": [
      "/home/rudall/miniconda3/envs/ringdown/lib/python3.10/site-packages/gwtools/rotations.py:63: UserWarning: Could not import GWFrames, needed for rotations module\n",
      "  _warnings.warn(\"Could not import GWFrames, needed for rotations module\")\n",
      "/home/rudall/miniconda3/envs/ringdown/lib/python3.10/site-packages/gwtools/__init__.py:11: UserWarning: Could not import rotations, decompositions, or fitfuncs. These are not needed by GWSurrogate.\n",
      "  _warnings.warn(\"Could not import rotations, decompositions, or fitfuncs. These are not needed by GWSurrogate.\")\n"
     ]
    },
    {
     "name": "stdout",
     "output_type": "stream",
     "text": [
      "setting __package__ to gwsurrogate.new so relative imports work\n",
      "__name__ = gwsurrogate.new.spline_evaluation\n",
      "__package__= gwsurrogate.new\n",
      "setting __package__ to gwsurrogate.new so relative imports work\n",
      "setting __package__ to gwsurrogate.new so relative imports work\n"
     ]
    }
   ],
   "source": [
    "import numpy as np\n",
    "import gwsurrogate\n",
    "import matplotlib.pyplot as plt\n",
    "%matplotlib inline\n",
    "from pycbc.types import TimeSeries"
   ]
  },
  {
   "cell_type": "code",
   "execution_count": 2,
   "metadata": {},
   "outputs": [],
   "source": [
    "# This can take a few minutes\n",
    "#gwsurrogate.catalog.pull('NRHybSur3dq8')"
   ]
  },
  {
   "cell_type": "code",
   "execution_count": 3,
   "metadata": {},
   "outputs": [
    {
     "name": "stdout",
     "output_type": "stream",
     "text": [
      "Loaded NRHybSur3dq8 model\n"
     ]
    },
    {
     "data": {
      "text/plain": [
       "gwsurrogate.surrogate.NRHybSur3dq8"
      ]
     },
     "execution_count": 3,
     "metadata": {},
     "output_type": "execute_result"
    }
   ],
   "source": [
    "sur = gwsurrogate.LoadSurrogate('NRHybSur3dq8')\n",
    "type(sur)"
   ]
  },
  {
   "cell_type": "code",
   "execution_count": 4,
   "metadata": {},
   "outputs": [
    {
     "name": "stdout",
     "output_type": "stream",
     "text": [
      "[7.85207906e-02+0.00000000e+00j 7.85207497e-02-1.87547729e-04j\n",
      " 7.85202609e-02-3.75095937e-04j ... 1.49585322e-05-1.48971767e-05j\n",
      " 1.26867753e-05-1.55188599e-05j 1.04385665e-05-1.58564611e-05j]\n"
     ]
    }
   ],
   "source": [
    "q = 1\n",
    "chiA = [0, 0, 0]\n",
    "chiB = [0, 0, 0]\n",
    "f_low = 0  # this will be ignored and the wavefrom will be returned on the times given below\n",
    "times = np.arange(-10000,130,0.1)\n",
    "# The returned times are the same as the input times\n",
    "times, h, dyn = sur(q, chiA, chiB, times=times, f_low=f_low)\n",
    "print(h[(2,2)])"
   ]
  },
  {
   "cell_type": "code",
   "execution_count": 5,
   "metadata": {},
   "outputs": [],
   "source": [
    "def wrap_surrogate_to_pycbc(\n",
    "    sur,\n",
    "    mass_1,\n",
    "    mass_2,\n",
    "    spin_1x=0,\n",
    "    spin_1y=0,\n",
    "    spin_1z=0,\n",
    "    spin_2x=0,\n",
    "    spin_2y=0,\n",
    "    spin_2z=0,\n",
    "    luminosity_distance=1,\n",
    "    incl=None,\n",
    "    phi=None,\n",
    "    f_low=20,\n",
    "    dt=1 / 4096.,\n",
    "    mode_list=None):\n",
    "    \"\"\"\n",
    "    sur ::gwsurrogate.surrogate object\n",
    "        The surrogate to use, as loaded from gwsurrogate.LoadSurrogate()\n",
    "    mass_1 ::float\n",
    "        The mass of the primary in MSun\n",
    "    mass_2 ::float\n",
    "        The mass of the secondary in MSun\n",
    "    spin_1x ::float\n",
    "        The dimensionless spin component in the x direction of the primary\n",
    "    spin_1y ::float\n",
    "        The dimensionless spin component in the y direction of the primary\n",
    "    spin_1z ::float\n",
    "        The dimensionless spin component in the z direction of the primary\n",
    "    spin_2x ::float\n",
    "        The dimensionless spin component in the x direction of the secondary\n",
    "    spin_2y ::float\n",
    "        The dimensionless spin component in the y direction of the secondary\n",
    "    spin_2z ::float\n",
    "        The dimensionless spin component in the z direction of the secondary\n",
    "    luminosity_distance ::float\n",
    "        The luminosity distance to the system in Mpc, defaults to 1\n",
    "    incl ::float\n",
    "        The inclination of the system - if not passed then modes will remain uncombined\n",
    "    phi ::float\n",
    "        The reference phase of the system - must be passed with incl to combine modes\n",
    "    f_low ::float\n",
    "        The lower frequency in Hz at which to generate the waveform\n",
    "    dt ::float \n",
    "        The sampling rate for the waveform, should generally be 1 / 2^n for some n (e.g. 1 / 4096)\n",
    "    mode_list ::list\n",
    "        A list of modes, each a tuple (l,m) to generate the waveform with\n",
    "    \"\"\"\n",
    "    # NR Convention\n",
    "    q = mass_1 / mass_2\n",
    "    chi1 = [spin_1x, spin_1y, spin_1z]\n",
    "    chi2 = [spin_2x, spin_2y, spin_2z]\n",
    "    total_mass = mass_1 + mass_2\n",
    "\n",
    "    if (incl is None) != (phi is None):\n",
    "        raise ValueError(\n",
    "            \"Either both of incl and phi should be specified, or neither should be\"\n",
    "        )\n",
    "    \n",
    "    # Get waveform from surrogate\n",
    "    _, h, _ = sur(\n",
    "        q,\n",
    "        chi1,\n",
    "        chi2,\n",
    "        M=total_mass,\n",
    "        f_low=f_low,\n",
    "        dt=dt,\n",
    "        mode_list = mode_list,\n",
    "        inclination=incl,\n",
    "        phi_ref=phi,\n",
    "        dist_mpc=luminosity_distance,\n",
    "        units='mks'\n",
    "    )\n",
    "    \n",
    "    # If combined modes then h is just a complex valued np array\n",
    "    if incl is not None:\n",
    "        hp = TimeSeries(np.real(h), delta_t=dt)\n",
    "        hc = TimeSeries(-np.imag(h), delta_t=dt)\n",
    "    # Not combined modes --> h is a dict of complex valued arrays\n",
    "    else:\n",
    "        hp = dict()\n",
    "        hc = dict()\n",
    "        for mode, hlm in h.items():\n",
    "            hp[mode] = TimeSeries(np.real(h[mode]), delta_t=dt)\n",
    "            hc[mode] = TimeSeries(-np.imag(h[mode]), delta_t=dt)\n",
    "\n",
    "    return hp, hc\n",
    "    "
   ]
  },
  {
   "cell_type": "code",
   "execution_count": 6,
   "metadata": {},
   "outputs": [],
   "source": [
    "hp_modes, hc_modes = wrap_surrogate_to_pycbc(sur, 35, 29, 0, 0, 0, 0, 0, 0, f_low=20, dt=1 / 4096.)"
   ]
  },
  {
   "cell_type": "code",
   "execution_count": 7,
   "metadata": {},
   "outputs": [
    {
     "data": {
      "text/plain": [
       "[<matplotlib.lines.Line2D at 0x7f3d18f3a350>]"
      ]
     },
     "execution_count": 7,
     "metadata": {},
     "output_type": "execute_result"
    },
    {
     "data": {
      "image/png": "[encoded data removed]",
      "text/plain": [
       "<Figure size 432x288 with 1 Axes>"
      ]
     },
     "metadata": {
      "needs_background": "light"
     },
     "output_type": "display_data"
    }
   ],
   "source": [
    "test_22 = hp_modes[(2,2)]\n",
    "plt.plot(test_22.sample_times, test_22)"
   ]
  },
  {
   "cell_type": "code",
   "execution_count": 8,
   "metadata": {},
   "outputs": [],
   "source": [
    "import makefun\n",
    "# See https://smarie.github.io/python-makefun/\n",
    "\n",
    "# A demonstration, here we are constructing a polynomial to fit with\n",
    "def polynomial_term(x, a, n):\n",
    "    # make a single term in a polynomial, given the coefficient and the power\n",
    "    return a * x ** n\n",
    "\n",
    "# This function will return a combined function\n",
    "def make_polynomial_function(nmax=2):\n",
    "    # Setup the function's desired call signature\n",
    "    func_sig = \"polynomial_function(x\"\n",
    "    for n in range(nmax):\n",
    "        func_sig += f\",a{n}\"\n",
    "    func_sig += \")\"\n",
    "    print(func_sig)\n",
    "    \n",
    "    # make the actual function itself, using *args\n",
    "    def unwrapped_polynomial(x, **kwargs):\n",
    "        polynomial = 0\n",
    "        for key, val in kwargs.items():\n",
    "            order = float(key[1:])\n",
    "            polynomial += polynomial_term(x, val, order)\n",
    "        return polynomial\n",
    "            \n",
    "    return makefun.create_function(func_sig, unwrapped_polynomial)"
   ]
  },
  {
   "cell_type": "code",
   "execution_count": 26,
   "metadata": {},
   "outputs": [
    {
     "name": "stdout",
     "output_type": "stream",
     "text": [
      "polynomial_function(x,a0,a1)\n"
     ]
    }
   ],
   "source": [
    "test_func = make_polynomial_function(nmax=2)"
   ]
  },
  {
   "cell_type": "code",
   "execution_count": 27,
   "metadata": {},
   "outputs": [],
   "source": [
    "test = test_func(np.arange(15), 2, 2)"
   ]
  },
  {
   "cell_type": "code",
   "execution_count": 23,
   "metadata": {},
   "outputs": [
    {
     "name": "stdout",
     "output_type": "stream",
     "text": [
      "[      4      14      42     100     200     354     574     872    1260\n",
      "    1750    2354    3084    3952    4970    6150    7504    9044   10782\n",
      "   12730   14900   17304   19954   22862   26040   29500   33254   37314\n",
      "   41692   46400   51450   56854   62624   68772   75310   82250   89604\n",
      "   97384  105602  114270  123400  133004  143094  153682  164780  176400\n",
      "  188554  201254  214512  228340  242750  257754  273364  289592  306450\n",
      "  323950  342104  360924  380422  400610  421500  443104  465434  488502\n",
      "  512320  536900  562254  588394  615332  643080  671650  701054  731304\n",
      "  762412  794390  827250  861004  895664  931242  967750 1005200 1043604\n",
      " 1082974 1123322 1164660 1207000 1250354 1294734 1340152 1386620 1434150\n",
      " 1482754 1532444 1583232 1635130 1688150 1742304 1797604 1854062 1911690\n",
      " 1970500]\n"
     ]
    }
   ],
   "source": [
    "test_x_values = np.arange(100)\n",
    "polynomial_to_fit = 4 + 5 * test_x_values + 3 * test_x_values ** 2 + 2 * test_x_values ** 3\n",
    "print(polynomial_to_fit)"
   ]
  },
  {
   "cell_type": "code",
   "execution_count": 32,
   "metadata": {},
   "outputs": [
    {
     "name": "stdout",
     "output_type": "stream",
     "text": [
      "polynomial_function(x,a0,a1,a2,a3)\n"
     ]
    }
   ],
   "source": [
    "fitting_func = make_polynomial_function(nmax=4)\n",
    "from scipy.optimize import curve_fit\n",
    "attempt_fit = curve_fit(fitting_func, test_x_values, polynomial_to_fit, [0,0,0,0])"
   ]
  },
  {
   "cell_type": "code",
   "execution_count": 33,
   "metadata": {},
   "outputs": [
    {
     "name": "stdout",
     "output_type": "stream",
     "text": [
      "(array([4., 5., 3., 2.]), array([[ 2.35620369e-25, -1.77564438e-26,  3.56892414e-28,\n",
      "        -2.09233408e-30],\n",
      "       [-1.77564438e-26,  1.82125418e-27, -4.14633815e-29,\n",
      "         2.60174986e-31],\n",
      "       [ 3.56892414e-28, -4.14633815e-29,  1.00913480e-30,\n",
      "        -6.60320025e-33],\n",
      "       [-2.09233408e-30,  2.60174986e-31, -6.60320025e-33,\n",
      "         4.44659948e-35]]))\n"
     ]
    }
   ],
   "source": [
    "print(attempt_fit)"
   ]
  },
  {
   "cell_type": "code",
   "execution_count": null,
   "metadata": {},
   "outputs": [],
   "source": []
  }
 ],
 "metadata": {
  "kernelspec": {
   "display_name": "RingdownKernel",
   "language": "python",
   "name": "ringdownkernel"
  },
  "language_info": {
   "codemirror_mode": {
    "name": "ipython",
    "version": 3
   },
   "file_extension": ".py",
   "mimetype": "text/x-python",
   "name": "python",
   "nbconvert_exporter": "python",
   "pygments_lexer": "ipython3",
   "version": "3.10.5"
  }
 },
 "nbformat": 4,
 "nbformat_minor": 4
}
