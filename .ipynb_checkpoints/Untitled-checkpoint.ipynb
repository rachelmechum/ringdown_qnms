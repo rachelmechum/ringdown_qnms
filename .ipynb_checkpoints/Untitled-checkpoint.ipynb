{
 "cells": [
  {
   "cell_type": "code",
   "execution_count": 4,
   "id": "be47af96",
   "metadata": {},
   "outputs": [],
   "source": [
    "import makefun\n",
    "import numpy as np\n",
    "# See https://smarie.github.io/python-makefun/\n",
    "\n",
    "# A demonstration, here we are constructing a polynomial to fit with\n",
    "def polynomial_term(x, a, n):\n",
    "    # make a single term in a polynomial, given the coefficient and the power\n",
    "    return a * x ** n\n",
    "\n",
    "# This function will return a combined function\n",
    "def make_polynomial_function(nmax=2):\n",
    "    # Setup the function's desired call signature\n",
    "    func_sig = \"polynomial_function(x\"\n",
    "    for n in range(nmax):\n",
    "        func_sig += f\",a{n}\"\n",
    "    func_sig += \")\"\n",
    "    print(func_sig)\n",
    "    \n",
    "    # make the actual function itself, using *args\n",
    "    def unwrapped_polynomial(x, **kwargs):\n",
    "        polynomial = 0\n",
    "        for key, val in kwargs.items():\n",
    "            order = float(key[1:])\n",
    "            polynomial += polynomial_term(x, val, order)\n",
    "        return polynomial\n",
    "            \n",
    "    return makefun.create_function(func_sig, unwrapped_polynomial)"
   ]
  },
  {
   "cell_type": "code",
   "execution_count": 5,
   "id": "2d2d23db",
   "metadata": {},
   "outputs": [
    {
     "name": "stdout",
     "output_type": "stream",
     "text": [
      "polynomial_function(x,a0,a1)\n"
     ]
    }
   ],
   "source": [
    "test_func = make_polynomial_function(nmax=2)"
   ]
  },
  {
   "cell_type": "code",
   "execution_count": 6,
   "id": "4f4162f5",
   "metadata": {},
   "outputs": [
    {
     "name": "stdout",
     "output_type": "stream",
     "text": [
      "[      4      14      42     100     200     354     574     872    1260\n",
      "    1750    2354    3084    3952    4970    6150    7504    9044   10782\n",
      "   12730   14900   17304   19954   22862   26040   29500   33254   37314\n",
      "   41692   46400   51450   56854   62624   68772   75310   82250   89604\n",
      "   97384  105602  114270  123400  133004  143094  153682  164780  176400\n",
      "  188554  201254  214512  228340  242750  257754  273364  289592  306450\n",
      "  323950  342104  360924  380422  400610  421500  443104  465434  488502\n",
      "  512320  536900  562254  588394  615332  643080  671650  701054  731304\n",
      "  762412  794390  827250  861004  895664  931242  967750 1005200 1043604\n",
      " 1082974 1123322 1164660 1207000 1250354 1294734 1340152 1386620 1434150\n",
      " 1482754 1532444 1583232 1635130 1688150 1742304 1797604 1854062 1911690\n",
      " 1970500]\n"
     ]
    }
   ],
   "source": [
    "test = test_func(np.arange(15), 2, 2)\n",
    "test_x_values = np.arange(100)\n",
    "polynomial_to_fit = 4 + 5 * test_x_values + 3 * test_x_values ** 2 + 2 * test_x_values ** 3\n",
    "print(polynomial_to_fit)"
   ]
  },
  {
   "cell_type": "code",
   "execution_count": 8,
   "id": "3371c269",
   "metadata": {},
   "outputs": [
    {
     "name": "stdout",
     "output_type": "stream",
     "text": [
      "polynomial_function(x,a0,a1,a2,a3)\n"
     ]
    }
   ],
   "source": [
    "fitting_func = make_polynomial_function(nmax=4)\n",
    "from scipy.optimize import curve_fit\n",
    "attempt_fit = curve_fit(fitting_func, test_x_values, polynomial_to_fit, [0,0,0,0])"
   ]
  },
  {
   "cell_type": "code",
   "execution_count": 9,
   "id": "bf55c064",
   "metadata": {},
   "outputs": [
    {
     "name": "stdout",
     "output_type": "stream",
     "text": [
      "(array([4., 5., 3., 2.]), array([[ 2.35620369e-25, -1.77564438e-26,  3.56892414e-28,\n",
      "        -2.09233408e-30],\n",
      "       [-1.77564438e-26,  1.82125418e-27, -4.14633815e-29,\n",
      "         2.60174986e-31],\n",
      "       [ 3.56892414e-28, -4.14633815e-29,  1.00913480e-30,\n",
      "        -6.60320025e-33],\n",
      "       [-2.09233408e-30,  2.60174986e-31, -6.60320025e-33,\n",
      "         4.44659948e-35]]))\n"
     ]
    }
   ],
   "source": [
    "print(attempt_fit)"
   ]
  },
  {
   "cell_type": "code",
   "execution_count": null,
   "id": "213afc45",
   "metadata": {},
   "outputs": [],
   "source": []
  }
 ],
 "metadata": {
  "kernelspec": {
   "display_name": "ringdown_kernel",
   "language": "python",
   "name": "ringdown_kernel"
  },
  "language_info": {
   "codemirror_mode": {
    "name": "ipython",
    "version": 3
   },
   "file_extension": ".py",
   "mimetype": "text/x-python",
   "name": "python",
   "nbconvert_exporter": "python",
   "pygments_lexer": "ipython3",
   "version": "3.10.5"
  }
 },
 "nbformat": 4,
 "nbformat_minor": 5
}
